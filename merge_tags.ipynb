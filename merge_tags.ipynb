{
 "cells": [
  {
   "cell_type": "code",
   "execution_count": 78,
   "metadata": {},
   "outputs": [],
   "source": [
    "test_data = [\n",
    "    {\n",
    "        \"start\":1 ,\n",
    "        \"end\":4,\n",
    "        \"tag\":2\n",
    "    },\n",
    "    {\n",
    "        \"start\":3\n",
    "        ,\n",
    "        \"end\":5,\n",
    "        \"tag\":1\n",
    "    },\n",
    "   \n",
    "    {\n",
    "        \"start\":8,\n",
    "        \"end\":10,\n",
    "        \"tag\":1\n",
    "    },\n",
    "     {\n",
    "        \"start\":6,\n",
    "        \"end\":9,\n",
    "        \"tag\":3\n",
    "    },\n",
    "    {\n",
    "        \"start\":6,\n",
    "        \"end\":20,\n",
    "        \"tag\":4\n",
    "    },\n",
    "]"
   ]
  },
  {
   "cell_type": "code",
   "execution_count": 79,
   "metadata": {},
   "outputs": [
    {
     "data": {
      "text/plain": [
       "[{'end': 4, 'start': 1, 'tag': 2},\n",
       " {'end': 5, 'start': 3, 'tag': 1},\n",
       " {'end': 10, 'start': 8, 'tag': 1},\n",
       " {'end': 9, 'start': 6, 'tag': 3},\n",
       " {'end': 20, 'start': 6, 'tag': 4}]"
      ]
     },
     "execution_count": 79,
     "metadata": {},
     "output_type": "execute_result"
    }
   ],
   "source": [
    "test_data\n"
   ]
  },
  {
   "cell_type": "code",
   "execution_count": 80,
   "metadata": {},
   "outputs": [],
   "source": [
    "newlist = sorted(test_data, key=lambda k: k['start']) \n"
   ]
  },
  {
   "cell_type": "code",
   "execution_count": 81,
   "metadata": {},
   "outputs": [
    {
     "data": {
      "text/plain": [
       "[{'end': 4, 'start': 1, 'tag': 2},\n",
       " {'end': 5, 'start': 3, 'tag': 1},\n",
       " {'end': 9, 'start': 6, 'tag': 3},\n",
       " {'end': 20, 'start': 6, 'tag': 4},\n",
       " {'end': 10, 'start': 8, 'tag': 1}]"
      ]
     },
     "execution_count": 81,
     "metadata": {},
     "output_type": "execute_result"
    }
   ],
   "source": [
    "newlist"
   ]
  },
  {
   "cell_type": "code",
   "execution_count": 82,
   "metadata": {},
   "outputs": [
    {
     "data": {
      "text/plain": [
       "[{'end': 4, 'start': 1, 'tag': 2},\n",
       " {'end': 5, 'start': 3, 'tag': 1},\n",
       " {'end': 10, 'start': 8, 'tag': 1},\n",
       " {'end': 9, 'start': 6, 'tag': 3},\n",
       " {'end': 20, 'start': 6, 'tag': 4}]"
      ]
     },
     "execution_count": 82,
     "metadata": {},
     "output_type": "execute_result"
    }
   ],
   "source": [
    "test_data"
   ]
  },
  {
   "cell_type": "code",
   "execution_count": 67,
   "metadata": {},
   "outputs": [],
   "source": [
    "\n",
    "        "
   ]
  },
  {
   "cell_type": "code",
   "execution_count": 68,
   "metadata": {},
   "outputs": [
    {
     "data": {
      "text/plain": [
       "[{'end': 5, 'start': 1, 'tag': 2}, {'end': 20, 'start': 6, 'tag': 4}]"
      ]
     },
     "execution_count": 68,
     "metadata": {},
     "output_type": "execute_result"
    }
   ],
   "source": [
    "res"
   ]
  },
  {
   "cell_type": "code",
   "execution_count": 89,
   "metadata": {},
   "outputs": [],
   "source": [
    "def merge_tag(tags):\n",
    "    tags = sorted(tags, key=lambda k: k['start']) \n",
    "    res = []\n",
    "    maxlen = 0\n",
    "    lastEnd = 0\n",
    "    for k in tags:\n",
    "        if k['start'] > lastEnd:\n",
    "            item = k\n",
    "            maxlen = k['end'] - k['start'] + 1\n",
    "        else:\n",
    "            item  = res.pop()\n",
    "            currentLen = k['end'] - k['start']\n",
    "            if  currentLen > maxlen:\n",
    "                item['tag'] = k['tag']\n",
    "                maxlen = currentLen\n",
    "            if k['end'] > item['end']:\n",
    "                item['end'] = k['end']\n",
    "        lastEnd = k['end']\n",
    "        res.append(item)\n",
    "    return res"
   ]
  },
  {
   "cell_type": "code",
   "execution_count": 90,
   "metadata": {},
   "outputs": [
    {
     "data": {
      "text/plain": [
       "[{'end': 5, 'start': 1, 'tag': 2}, {'end': 20, 'start': 6, 'tag': 4}]"
      ]
     },
     "execution_count": 90,
     "metadata": {},
     "output_type": "execute_result"
    }
   ],
   "source": [
    "merge_tag(test_data)"
   ]
  },
  {
   "cell_type": "code",
   "execution_count": 87,
   "metadata": {},
   "outputs": [
    {
     "data": {
      "text/plain": [
       "[{'end': 4, 'start': 1, 'tag': 2},\n",
       " {'end': 5, 'start': 3, 'tag': 1},\n",
       " {'end': 10, 'start': 8, 'tag': 1},\n",
       " {'end': 9, 'start': 6, 'tag': 3},\n",
       " {'end': 20, 'start': 6, 'tag': 4}]"
      ]
     },
     "execution_count": 87,
     "metadata": {},
     "output_type": "execute_result"
    }
   ],
   "source": [
    "test_data"
   ]
  },
  {
   "cell_type": "code",
   "execution_count": null,
   "metadata": {},
   "outputs": [],
   "source": []
  }
 ],
 "metadata": {
  "kernelspec": {
   "display_name": "Python 3",
   "language": "python",
   "name": "python3"
  },
  "language_info": {
   "codemirror_mode": {
    "name": "ipython",
    "version": 3
   },
   "file_extension": ".py",
   "mimetype": "text/x-python",
   "name": "python",
   "nbconvert_exporter": "python",
   "pygments_lexer": "ipython3",
   "version": "3.6.7"
  }
 },
 "nbformat": 4,
 "nbformat_minor": 2
}
